{
 "cells": [
  {
   "cell_type": "code",
   "execution_count": 1,
   "id": "5754cedd",
   "metadata": {},
   "outputs": [
    {
     "ename": "NameError",
     "evalue": "name 'q' is not defined",
     "output_type": "error",
     "traceback": [
      "\u001b[0;31m---------------------------------------------------------------------------\u001b[0m",
      "\u001b[0;31mNameError\u001b[0m                                 Traceback (most recent call last)",
      "Input \u001b[0;32mIn [1]\u001b[0m, in \u001b[0;36m<cell line: 2>\u001b[0;34m()\u001b[0m\n\u001b[1;32m      1\u001b[0m \u001b[38;5;28;01mfrom\u001b[39;00m \u001b[38;5;21;01mmatplotlib\u001b[39;00m \u001b[38;5;28;01mimport\u001b[39;00m pyplot \u001b[38;5;28;01mas\u001b[39;00m plt\n\u001b[0;32m----> 2\u001b[0m plt\u001b[38;5;241m.\u001b[39mplot(\u001b[43mq\u001b[49m, rand_wp, color\u001b[38;5;241m=\u001b[39m\u001b[38;5;124m'\u001b[39m\u001b[38;5;124mr\u001b[39m\u001b[38;5;124m'\u001b[39m)\n\u001b[1;32m      3\u001b[0m plt\u001b[38;5;241m.\u001b[39mplot(q, opt_wp, color\u001b[38;5;241m=\u001b[39m\u001b[38;5;124m'\u001b[39m\u001b[38;5;124mg\u001b[39m\u001b[38;5;124m'\u001b[39m)\n\u001b[1;32m      4\u001b[0m plt\u001b[38;5;241m.\u001b[39mxlabel(\u001b[38;5;124m\"\u001b[39m\u001b[38;5;124mq (Degree of Weakness of Player B)\u001b[39m\u001b[38;5;124m\"\u001b[39m)\n",
      "\u001b[0;31mNameError\u001b[0m: name 'q' is not defined"
     ]
    }
   ],
   "source": [
    "from matplotlib import pyplot as plt\n",
    "plt.plot(q, rand_wp, color='r')\n",
    "plt.plot(q, opt_wp, color='g')\n",
    "plt.xlabel(\"q (Degree of Weakness of Player B)\")\n",
    "plt.ylabel(\"Win Probability\")\n",
    "plt.legend([\"Random Policy\", \"Optimal Policy\"])\n",
    "plt.suptitle(\"Win Probability vs q\", size=14, fontweight = 'bold', y=1)\n",
    "plt.title(\"Balls Left = 15   Runs Required = 30\")"
   ]
  },
  {
   "cell_type": "code",
   "execution_count": null,
   "id": "1a96023a",
   "metadata": {},
   "outputs": [],
   "source": [
    "\n",
    "def lp(MDP):\n",
    "    S = MDP[0] \n",
    "    A = MDP[1]\n",
    "    T = MDP[2]\n",
    "    R = MDP[3]\n",
    "    Y = MDP[4]\n",
    "    problem = LpProblem('optimal_policy', LpMaximize)\n",
    "\n",
    "    #Create Decision Variables:\n",
    "    decision_variables = []\n",
    "    for s in range(S):\n",
    "        variable = str('s'+str(s))\n",
    "        variable = LpVariable(str(variable))\n",
    "        decision_variables.append(variable)       \n",
    "    \n",
    "\n",
    "    # V = np.array(list(LpVariable.dicts(\"V\", [i for i in range(S)]).values()))\n",
    "    # decision_variables = V\n",
    "    #Define Objective Function:\n",
    "    #print(decision_variables)\n",
    "    total_value =\"\"\n",
    "    \n",
    "    for s in decision_variables:\n",
    "    #for i, s in enumerate(decision_variables):\n",
    "        total_value += s\n",
    "    #print(total_value)\n",
    "\n",
    "    #optamize functions\n",
    "    problem+=(-1*total_value)\n",
    "\n",
    "\n",
    "    #create constrains\n",
    "    for i, s in enumerate(decision_variables):\n",
    "        for a in range(A):\n",
    "            sum1 = \"\"\n",
    "            #for  in range(S):\n",
    "            for j, s_ in enumerate(decision_variables):\n",
    "                TR = T[i][a][j] * R[i][a][j]\n",
    "                TY = T[i][a][j] * Y\n",
    "                #print(T[i][a][j] , R[s][a][j])\n",
    "                #print(TY)\n",
    "                sum1 += TR + TY * s_\n",
    "                #print(\"Sum is \",sum1)\n",
    "            #print(\"Total Sum is \",sum1)\n",
    "\n",
    "            #bug take last value of s_\n",
    "            problem+= s >= sum1\n",
    "\n",
    "    #print(problem)\n",
    "    problem.writeLP(\"optimal_policy.lp\" )\n",
    "\n",
    "    #problem.solve()\n",
    "    problem.solve(PULP_CBC_CMD(msg=0))\n",
    "    #assert result == LpStatusOptimal\n",
    "\n",
    "    # optimal values\n",
    "    V = []\n",
    "    for s in problem.variables():\n",
    "        #print(s.varValue)\n",
    "        V.append(s.varValue)\n",
    "\n",
    "    # Q Values\n",
    "    Q = np.zeros((S,A))\n",
    "    for s in range(S):\n",
    "        for a in range(A):\n",
    "            sum1 = 0\n",
    "            for s_ in range(S):\n",
    "                sum1+= T[s][a][s_] * (R[s][a][s_] + Y * V[s_])\n",
    "            Q[s][a] =sum1\n",
    "    \n",
    "    policy = []\n",
    "    for s in range(S):\n",
    "        policy.append(int(np.argmax(Q[s])))\n",
    "    \n",
    "    return(V,policy)"
   ]
  },
  {
   "cell_type": "code",
   "execution_count": null,
   "id": "08003f1b",
   "metadata": {},
   "outputs": [],
   "source": []
  },
  {
   "cell_type": "code",
   "execution_count": null,
   "id": "8032185f",
   "metadata": {},
   "outputs": [],
   "source": []
  },
  {
   "cell_type": "code",
   "execution_count": 2,
   "id": "6321eede",
   "metadata": {},
   "outputs": [
    {
     "name": "stdout",
     "output_type": "stream",
     "text": [
      "Requirement already satisfied: pulp in /opt/anaconda3/lib/python3.9/site-packages (2.6.0)\r\n"
     ]
    }
   ],
   "source": [
    "!pip install pulp"
   ]
  },
  {
   "cell_type": "code",
   "execution_count": 1,
   "id": "da464639",
   "metadata": {},
   "outputs": [
    {
     "ename": "AttributeError",
     "evalue": "partially initialized module 'pulp' has no attribute 'LpProblem' (most likely due to a circular import)",
     "output_type": "error",
     "traceback": [
      "\u001b[0;31m---------------------------------------------------------------------------\u001b[0m",
      "\u001b[0;31mAttributeError\u001b[0m                            Traceback (most recent call last)",
      "Input \u001b[0;32mIn [1]\u001b[0m, in \u001b[0;36m<cell line: 1>\u001b[0;34m()\u001b[0m\n\u001b[0;32m----> 1\u001b[0m \u001b[38;5;28;01mimport\u001b[39;00m \u001b[38;5;21;01mpulp\u001b[39;00m\n\u001b[1;32m      2\u001b[0m prob \u001b[38;5;241m=\u001b[39m pulp\u001b[38;5;241m.\u001b[39mLpProblem(\u001b[38;5;124m'\u001b[39m\u001b[38;5;124mGoingOnVacation\u001b[39m\u001b[38;5;124m'\u001b[39m, pulp\u001b[38;5;241m.\u001b[39mLpMinimize)\n",
      "File \u001b[0;32m~/Desktop/CS747/MDP/pulp.py:3\u001b[0m, in \u001b[0;36m<module>\u001b[0;34m\u001b[0m\n\u001b[1;32m      1\u001b[0m \u001b[38;5;66;03m#from pulp import * \u001b[39;00m\n\u001b[1;32m      2\u001b[0m \u001b[38;5;28;01mimport\u001b[39;00m \u001b[38;5;21;01mpulp\u001b[39;00m\n\u001b[0;32m----> 3\u001b[0m prob \u001b[38;5;241m=\u001b[39m \u001b[43mpulp\u001b[49m\u001b[38;5;241;43m.\u001b[39;49m\u001b[43mLpProblem\u001b[49m(\u001b[38;5;124m'\u001b[39m\u001b[38;5;124mGoingOnVacation\u001b[39m\u001b[38;5;124m'\u001b[39m, pulp\u001b[38;5;241m.\u001b[39mLpMinimize)\n",
      "\u001b[0;31mAttributeError\u001b[0m: partially initialized module 'pulp' has no attribute 'LpProblem' (most likely due to a circular import)"
     ]
    }
   ],
   "source": [
    "import pulp\n",
    "prob = pulp.LpProblem('GoingOnVacation', pulp.LpMinimize)"
   ]
  },
  {
   "cell_type": "code",
   "execution_count": null,
   "id": "8aa14a86",
   "metadata": {},
   "outputs": [],
   "source": []
  }
 ],
 "metadata": {
  "kernelspec": {
   "display_name": "Python 3 (ipykernel)",
   "language": "python",
   "name": "python3"
  },
  "language_info": {
   "codemirror_mode": {
    "name": "ipython",
    "version": 3
   },
   "file_extension": ".py",
   "mimetype": "text/x-python",
   "name": "python",
   "nbconvert_exporter": "python",
   "pygments_lexer": "ipython3",
   "version": "3.9.12"
  },
  "vscode": {
   "interpreter": {
    "hash": "31f2aee4e71d21fbe5cf8b01ff0e069b9275f58929596ceb00d14d90e3e16cd6"
   }
  }
 },
 "nbformat": 4,
 "nbformat_minor": 5
}
