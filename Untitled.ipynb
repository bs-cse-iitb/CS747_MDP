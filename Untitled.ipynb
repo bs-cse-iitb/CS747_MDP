{
 "cells": [
  {
   "cell_type": "code",
   "execution_count": null,
   "id": "5754cedd",
   "metadata": {},
   "outputs": [],
   "source": []
  },
  {
   "cell_type": "code",
   "execution_count": 2,
   "id": "6321eede",
   "metadata": {},
   "outputs": [
    {
     "name": "stdout",
     "output_type": "stream",
     "text": [
      "Requirement already satisfied: pulp in /opt/anaconda3/lib/python3.9/site-packages (2.6.0)\r\n"
     ]
    }
   ],
   "source": [
    "!pip install pulp"
   ]
  },
  {
   "cell_type": "code",
   "execution_count": 1,
   "id": "da464639",
   "metadata": {},
   "outputs": [
    {
     "ename": "AttributeError",
     "evalue": "partially initialized module 'pulp' has no attribute 'LpProblem' (most likely due to a circular import)",
     "output_type": "error",
     "traceback": [
      "\u001b[0;31m---------------------------------------------------------------------------\u001b[0m",
      "\u001b[0;31mAttributeError\u001b[0m                            Traceback (most recent call last)",
      "Input \u001b[0;32mIn [1]\u001b[0m, in \u001b[0;36m<cell line: 1>\u001b[0;34m()\u001b[0m\n\u001b[0;32m----> 1\u001b[0m \u001b[38;5;28;01mimport\u001b[39;00m \u001b[38;5;21;01mpulp\u001b[39;00m\n\u001b[1;32m      2\u001b[0m prob \u001b[38;5;241m=\u001b[39m pulp\u001b[38;5;241m.\u001b[39mLpProblem(\u001b[38;5;124m'\u001b[39m\u001b[38;5;124mGoingOnVacation\u001b[39m\u001b[38;5;124m'\u001b[39m, pulp\u001b[38;5;241m.\u001b[39mLpMinimize)\n",
      "File \u001b[0;32m~/Desktop/CS747/MDP/pulp.py:3\u001b[0m, in \u001b[0;36m<module>\u001b[0;34m\u001b[0m\n\u001b[1;32m      1\u001b[0m \u001b[38;5;66;03m#from pulp import * \u001b[39;00m\n\u001b[1;32m      2\u001b[0m \u001b[38;5;28;01mimport\u001b[39;00m \u001b[38;5;21;01mpulp\u001b[39;00m\n\u001b[0;32m----> 3\u001b[0m prob \u001b[38;5;241m=\u001b[39m \u001b[43mpulp\u001b[49m\u001b[38;5;241;43m.\u001b[39;49m\u001b[43mLpProblem\u001b[49m(\u001b[38;5;124m'\u001b[39m\u001b[38;5;124mGoingOnVacation\u001b[39m\u001b[38;5;124m'\u001b[39m, pulp\u001b[38;5;241m.\u001b[39mLpMinimize)\n",
      "\u001b[0;31mAttributeError\u001b[0m: partially initialized module 'pulp' has no attribute 'LpProblem' (most likely due to a circular import)"
     ]
    }
   ],
   "source": [
    "import pulp\n",
    "prob = pulp.LpProblem('GoingOnVacation', pulp.LpMinimize)"
   ]
  },
  {
   "cell_type": "code",
   "execution_count": null,
   "id": "8aa14a86",
   "metadata": {},
   "outputs": [],
   "source": []
  }
 ],
 "metadata": {
  "kernelspec": {
   "display_name": "Python 3.8.9 64-bit",
   "language": "python",
   "name": "python3"
  },
  "language_info": {
   "codemirror_mode": {
    "name": "ipython",
    "version": 3
   },
   "file_extension": ".py",
   "mimetype": "text/x-python",
   "name": "python",
   "nbconvert_exporter": "python",
   "pygments_lexer": "ipython3",
   "version": "3.8.9"
  },
  "vscode": {
   "interpreter": {
    "hash": "31f2aee4e71d21fbe5cf8b01ff0e069b9275f58929596ceb00d14d90e3e16cd6"
   }
  }
 },
 "nbformat": 4,
 "nbformat_minor": 5
}
